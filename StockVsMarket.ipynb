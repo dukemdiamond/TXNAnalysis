{
 "cells": [
  {
   "cell_type": "code",
   "id": "initial_id",
   "metadata": {
    "collapsed": true,
    "ExecuteTime": {
     "end_time": "2025-06-10T13:23:06.914035Z",
     "start_time": "2025-06-10T13:23:06.640848Z"
    }
   },
   "source": [
    "from yfinance import *\n",
    "import pandas as pd\n",
    "import sqlite3\n",
    "\n",
    "# Tickers for our stokcs\n",
    "txn = Ticker(\"TXN\")\n",
    "regn = Ticker(\"REGN\")\n",
    "amd = Ticker(\"AMD\")\n",
    "gral = Ticker(\"GRAL\")\n",
    "klac = Ticker(\"KLAC\")\n",
    "market = Ticker(\"^GSPC\")\n",
    "\n",
    "\n",
    "# Historical data YTD\n",
    "txn_ytd = txn.history(period=\"ytd\")\n",
    "market_ytd = market.history(period=\"ytd\")\n",
    "\n",
    "# Data including date & % up/down for each day\n",
    "market_trend = ((market_ytd['Close'] - market_ytd['Open']) / market_ytd['Open']) * 100\n",
    "\n",
    "txn_trend = ((txn_ytd['Close'] - txn_ytd['Open']) /\n",
    "             txn_ytd['Open']) * 100\n",
    "\n",
    "\n",
    "# These loops mark True for a positive shift (Stock went up) and False for a negative shift (Market went down)\n",
    "market_arr = []\n",
    "for tr in market_trend:\n",
    "    tr = tr > 0\n",
    "    market_arr.append(tr)\n",
    "\n",
    "\n",
    "txn_arr = []\n",
    "for tr in txn_trend:\n",
    "    tr = tr > 0\n",
    "    txn_arr.append(tr)\n",
    "\n",
    "\n",
    "\n",
    "# With %Yield\n",
    "# market_data = {\"Date\": market_ytd.index, \"Trend\": ((market_ytd['Close'] - market_ytd['Open']) / market_ytd['Open']) * 100}\n",
    "\n",
    "# With Boolean markers\n",
    "market_data = {\"Date\": market_ytd.index, \"Trend\": market_arr}\n",
    "\n",
    "txn_data = {\"Date\": txn_ytd.index, \"Trend\": txn_arr}\n",
    "\n",
    "# Dataframes for Market & TXN\n",
    "txn_df = pd.DataFrame(txn_data)\n",
    "market_df = pd.DataFrame(market_data)\n",
    "\n",
    "# Local Memory (SQLITE)\n",
    "conn = sqlite3.connect(':memory:')\n",
    "\n",
    "# Importing Dataframes into SQL\n",
    "txn_df.to_sql('txn_data', conn, index=False)\n",
    "market_df.to_sql('market_data', conn, index=False)\n",
    "\n",
    "# Querying to find when TXN went up when the Market was down\n",
    "query = \"\"\"\n",
    "SELECT Date, Trend\n",
    "FROM txn_data\n",
    "WHERE (Trend = TRUE\n",
    "    AND Date IN(\n",
    "        SELECT Date\n",
    "        FROM market_data\n",
    "        WHERE Trend = FALSE));\n",
    "\"\"\"\n",
    "\n",
    "result = pd.read_sql_query(query, conn)\n",
    "print(result)\n",
    "\n",
    "\n",
    "\n",
    "# CSV Files\n",
    "# txn_df.to_csv('txn_trend.csv', index=False)\n",
    "# market_df.to_csv('market_trend.csv', index=False)\n",
    "\n",
    "\n",
    "\n"
   ],
   "outputs": [
    {
     "name": "stdout",
     "output_type": "stream",
     "text": [
      "                         Date  Trend\n",
      "0   2025-01-06 00:00:00-05:00      1\n",
      "1   2025-01-14 00:00:00-05:00      1\n",
      "2   2025-01-31 00:00:00-05:00      1\n",
      "3   2025-02-14 00:00:00-05:00      1\n",
      "4   2025-02-20 00:00:00-05:00      1\n",
      "5   2025-03-26 00:00:00-04:00      1\n",
      "6   2025-04-17 00:00:00-04:00      1\n",
      "7   2025-04-21 00:00:00-04:00      1\n",
      "8   2025-05-09 00:00:00-04:00      1\n",
      "9   2025-05-20 00:00:00-04:00      1\n",
      "10  2025-05-28 00:00:00-04:00      1\n",
      "11  2025-06-04 00:00:00-04:00      1\n"
     ]
    }
   ],
   "execution_count": 20
  },
  {
   "metadata": {},
   "cell_type": "code",
   "outputs": [],
   "execution_count": null,
   "source": "",
   "id": "d8113251ee74fa6d"
  }
 ],
 "metadata": {
  "kernelspec": {
   "display_name": "Python 3",
   "language": "python",
   "name": "python3"
  },
  "language_info": {
   "codemirror_mode": {
    "name": "ipython",
    "version": 2
   },
   "file_extension": ".py",
   "mimetype": "text/x-python",
   "name": "python",
   "nbconvert_exporter": "python",
   "pygments_lexer": "ipython2",
   "version": "2.7.6"
  }
 },
 "nbformat": 4,
 "nbformat_minor": 5
}
